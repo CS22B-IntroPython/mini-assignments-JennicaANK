{
  "cells": [
    {
      "cell_type": "markdown",
      "source": [
        "##**Stack Questions**"
      ],
      "metadata": {
        "id": "cP32wAV3Yi-4"
      }
    },
    {
      "cell_type": "markdown",
      "source": [
        "## Question 1: Write a function to sort a stack."
      ],
      "metadata": {
        "id": "KqdNjm1oY_ss"
      }
    },
    {
      "cell_type": "code",
      "source": [
        "def sort_stack(stack):\n",
        "    temp_stack = []\n",
        "    while stack:\n",
        "        temp = stack.pop() #last element\n",
        "        while temp_stack and temp_stack[-1] > temp:\n",
        "            stack.append(temp_stack.pop())\n",
        "        temp_stack.append(temp)\n",
        "    return temp_stack\n",
        "\n",
        "stack = [34, 3, 31, 98, 92, 23]\n",
        "print(sort_stack(stack))"
      ],
      "metadata": {
        "id": "mb9K46p3Ym0N",
        "colab": {
          "base_uri": "https://localhost:8080/"
        },
        "outputId": "d4142c78-fcf7-4871-f326-82dcb903e343"
      },
      "execution_count": 6,
      "outputs": [
        {
          "output_type": "stream",
          "name": "stdout",
          "text": [
            "[3, 23, 31, 34, 92, 98]\n"
          ]
        }
      ]
    },
    {
      "cell_type": "markdown",
      "metadata": {
        "id": "jFxb6ss_Whwl"
      },
      "source": [
        "## Question 2: Depict the following image as a list.\n",
        "\n",
        "<img src=\"https://miro.medium.com/max/1050/1*XifPIMxbamGKhz5UAEdz2w.png\">\n",
        "\n",
        "#### Queue\n",
        "1. Add the number 9 to the list.\n",
        "2. Remove the first number (7) from the list.\n",
        "\n",
        "#### Stack\n",
        "3. Add the number 4 to the same list.\n",
        "4. Remove the last number added (4) from the list."
      ]
    },
    {
      "cell_type": "code",
      "execution_count": 7,
      "metadata": {
        "id": "XOm7YLTEWhwm",
        "colab": {
          "base_uri": "https://localhost:8080/"
        },
        "outputId": "a5343a2f-0bc7-4bd0-ae4d-452026761390"
      },
      "outputs": [
        {
          "output_type": "stream",
          "name": "stdout",
          "text": [
            "[3, 1, 6, 8, 9]\n"
          ]
        }
      ],
      "source": [
        "#Your Answer:\n",
        "# Initial List\n",
        "queue_stack = [7, 3, 1, 6, 8]\n",
        "\n",
        "# Queue Operations\n",
        "queue_stack.append(9)  # Add 9\n",
        "queue_stack.pop(0)      # Remove first element (7)\n",
        "\n",
        "# Stack Operations\n",
        "queue_stack.append(4)  # Add 4\n",
        "queue_stack.pop()      # Remove last added element (4)\n",
        "\n",
        "# Final List Output\n",
        "print(queue_stack)\n"
      ]
    },
    {
      "cell_type": "markdown",
      "metadata": {
        "id": "tQ3kgHVtWhwn"
      },
      "source": [
        "#### Question 3: Nodes\n",
        "\n",
        "<img src=\"https://encrypted-tbn0.gstatic.com/images?q=tbn:ANd9GcQW8-twGk0hCILE-muHBnG93hZJh2Qvgs7pVA&s\">\n",
        "\n",
        "1. Use a data structure of your choice to denote the different nodes.\n",
        "\n",
        "2. Create a function that sums all of the \"children\". Test with the node 10 (Expected answer is 37).\n"
      ]
    },
    {
      "cell_type": "code",
      "execution_count": 12,
      "metadata": {
        "id": "UU0rjzjXWhwn",
        "colab": {
          "base_uri": "https://localhost:8080/"
        },
        "outputId": "428713c7-7c27-459b-9ef2-77d8fb132082"
      },
      "outputs": [
        {
          "output_type": "stream",
          "name": "stdout",
          "text": [
            "Sum of children of node 10: 27\n"
          ]
        }
      ],
      "source": [
        "class TreeNode:\n",
        "    def __init__(self, value):\n",
        "        self.value = value\n",
        "        self.children = []\n",
        "\n",
        "    def add_child(self, child):\n",
        "        self.children.append(child)\n",
        "\n",
        "# Creating tree nodes\n",
        "root = TreeNode(8)\n",
        "node3 = TreeNode(3)\n",
        "node10 = TreeNode(10)\n",
        "node1 = TreeNode(1)\n",
        "node6 = TreeNode(6)\n",
        "node14 = TreeNode(14)\n",
        "node4 = TreeNode(4)\n",
        "node7 = TreeNode(7)\n",
        "node13 = TreeNode(13)\n",
        "\n",
        "# Construct the tree\n",
        "root.add_child(node3)\n",
        "root.add_child(node10)\n",
        "\n",
        "node3.add_child(node1)\n",
        "node3.add_child(node6)\n",
        "\n",
        "node6.add_child(node4)\n",
        "node6.add_child(node7)\n",
        "\n",
        "node10.add_child(node14)  # Node 10 has a direct child: 14\n",
        "node14.add_child(node13)  # Node 14 has a direct child: 13\n",
        "\n",
        "# sum all children recursively\n",
        "def sum_children(node):\n",
        "    return sum(child.value + sum_children(child) for child in node.children)  # Recursively sum all children\n",
        "\n",
        "# Test the function with node 10\n",
        "result = sum_children(node10)\n",
        "print(\"Sum of children of node 10:\", result)  # Expected output: 37\n"
      ]
    }
  ],
  "metadata": {
    "hide_input": false,
    "kernelspec": {
      "display_name": "Python 3",
      "language": "python",
      "name": "python3"
    },
    "language_info": {
      "codemirror_mode": {
        "name": "ipython",
        "version": 3
      },
      "file_extension": ".py",
      "mimetype": "text/x-python",
      "name": "python",
      "nbconvert_exporter": "python",
      "pygments_lexer": "ipython3",
      "version": "3.8.3"
    },
    "toc": {
      "base_numbering": 1,
      "nav_menu": {},
      "number_sections": true,
      "sideBar": true,
      "skip_h1_title": false,
      "title_cell": "Table of Contents",
      "title_sidebar": "Contents",
      "toc_cell": false,
      "toc_position": {},
      "toc_section_display": true,
      "toc_window_display": false
    },
    "colab": {
      "provenance": []
    }
  },
  "nbformat": 4,
  "nbformat_minor": 0
}